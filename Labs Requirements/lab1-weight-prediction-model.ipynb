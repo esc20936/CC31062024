{
 "cells": [
  {
   "cell_type": "code",
   "execution_count": 1,
   "id": "5dbab1858faf6182",
   "metadata": {},
   "outputs": [],
   "source": [
    "import math\n",
    "import pandas as pd\n",
    "from sklearn import linear_model\n",
    "from sklearn.metrics import mean_absolute_error\n",
    "import matplotlib.pyplot as plt\n",
    "from scipy.stats import pearsonr"
   ]
  },
  {
   "cell_type": "code",
   "execution_count": 2,
   "id": "d9a83f1ab1a45fd2",
   "metadata": {},
   "outputs": [],
   "source": [
    "# 0. Cargar los datos de estatura y peso\n",
    "# url = 'http://socr.ucla.edu/docs/resources/SOCR_Data/SOCR_Data_Dinov_020108_HeightsWeights.html'\n",
    "\n",
    "# height_weight_df = pd.read_html(url)"
   ]
  },
  {
   "cell_type": "code",
   "execution_count": 3,
   "id": "37958a2a",
   "metadata": {},
   "outputs": [],
   "source": [
    "# height_weight_df"
   ]
  },
  {
   "cell_type": "code",
   "execution_count": 4,
   "id": "b1b88c88",
   "metadata": {},
   "outputs": [],
   "source": [
    "# df = height_weight_df[0]\n",
    "# df"
   ]
  },
  {
   "cell_type": "code",
   "execution_count": 5,
   "id": "3f07f8e9",
   "metadata": {},
   "outputs": [],
   "source": [
    "# renombrar las columnas\n",
    "# df.columns = ['Index', 'Height', 'Weight']\n",
    "# df"
   ]
  },
  {
   "cell_type": "code",
   "execution_count": 6,
   "id": "89e44f17",
   "metadata": {},
   "outputs": [],
   "source": [
    "# remove first row\n",
    "# df = df.drop(0)"
   ]
  },
  {
   "cell_type": "code",
   "execution_count": 7,
   "id": "12ab4057",
   "metadata": {},
   "outputs": [],
   "source": [
    "# set the index\n",
    "# df = df.set_index('Index')"
   ]
  },
  {
   "cell_type": "code",
   "execution_count": 8,
   "id": "1f69c167",
   "metadata": {},
   "outputs": [],
   "source": [
    "# df"
   ]
  },
  {
   "cell_type": "code",
   "execution_count": 9,
   "id": "0d4e6b19",
   "metadata": {},
   "outputs": [],
   "source": [
    "# save the data\n",
    "# df.to_csv('height_weight.csv')"
   ]
  },
  {
   "cell_type": "code",
   "execution_count": 10,
   "id": "dc4ed125ad17f865",
   "metadata": {},
   "outputs": [],
   "source": [
    "# 1. Count records in the dataframe\n",
    "# 2. Crear una regresion lineal con estatura como variable explicatoria y peso como variable explicada\n",
    "# 3. Hallar el intercepto\n",
    "# 4. Hacer la grafica\n",
    "# 5. Hallar correlacion y valor p\n",
    "# 6. Interpretar el valor p"
   ]
  },
  {
   "cell_type": "code",
   "execution_count": 11,
   "id": "ceacc8d0",
   "metadata": {},
   "outputs": [
    {
     "data": {
      "text/html": [
       "<div>\n",
       "<style scoped>\n",
       "    .dataframe tbody tr th:only-of-type {\n",
       "        vertical-align: middle;\n",
       "    }\n",
       "\n",
       "    .dataframe tbody tr th {\n",
       "        vertical-align: top;\n",
       "    }\n",
       "\n",
       "    .dataframe thead th {\n",
       "        text-align: right;\n",
       "    }\n",
       "</style>\n",
       "<table border=\"1\" class=\"dataframe\">\n",
       "  <thead>\n",
       "    <tr style=\"text-align: right;\">\n",
       "      <th></th>\n",
       "      <th>Index</th>\n",
       "      <th>Height</th>\n",
       "      <th>Weight</th>\n",
       "    </tr>\n",
       "  </thead>\n",
       "  <tbody>\n",
       "    <tr>\n",
       "      <th>0</th>\n",
       "      <td>1</td>\n",
       "      <td>65.78331</td>\n",
       "      <td>112.9925</td>\n",
       "    </tr>\n",
       "    <tr>\n",
       "      <th>1</th>\n",
       "      <td>2</td>\n",
       "      <td>71.51521</td>\n",
       "      <td>136.4873</td>\n",
       "    </tr>\n",
       "    <tr>\n",
       "      <th>2</th>\n",
       "      <td>3</td>\n",
       "      <td>69.39874</td>\n",
       "      <td>153.0269</td>\n",
       "    </tr>\n",
       "    <tr>\n",
       "      <th>3</th>\n",
       "      <td>4</td>\n",
       "      <td>68.21660</td>\n",
       "      <td>142.3354</td>\n",
       "    </tr>\n",
       "    <tr>\n",
       "      <th>4</th>\n",
       "      <td>5</td>\n",
       "      <td>67.78781</td>\n",
       "      <td>144.2971</td>\n",
       "    </tr>\n",
       "  </tbody>\n",
       "</table>\n",
       "</div>"
      ],
      "text/plain": [
       "   Index    Height    Weight\n",
       "0      1  65.78331  112.9925\n",
       "1      2  71.51521  136.4873\n",
       "2      3  69.39874  153.0269\n",
       "3      4  68.21660  142.3354\n",
       "4      5  67.78781  144.2971"
      ]
     },
     "execution_count": 11,
     "metadata": {},
     "output_type": "execute_result"
    }
   ],
   "source": [
    "# read the data\n",
    "data = pd.read_csv('height_weight.csv')\n",
    "data.head()"
   ]
  },
  {
   "cell_type": "code",
   "execution_count": 12,
   "id": "7e8ec7aa",
   "metadata": {},
   "outputs": [
    {
     "name": "stdout",
     "output_type": "stream",
     "text": [
      "Total records: 25000\n"
     ]
    }
   ],
   "source": [
    "# 1. Count records in the dataframe\n",
    "print('Total records:', len(data))"
   ]
  },
  {
   "cell_type": "code",
   "execution_count": 13,
   "id": "7d744f44",
   "metadata": {},
   "outputs": [
    {
     "name": "stdout",
     "output_type": "stream",
     "text": [
      "Intercept: [-82.57574306]\n"
     ]
    }
   ],
   "source": [
    "# 2. Crear una regresion lineal con estatura como variable explicatoria y peso como variable explicada\n",
    "X = data['Height'].values.reshape(-1, 1)\n",
    "y = data['Weight'].values.reshape(-1, 1)\n",
    "\n",
    "# 3. Hallar el intercepto\n",
    "regr = linear_model.LinearRegression()\n",
    "regr.fit(X, y)\n",
    "print('Intercept:', regr.intercept_)\n"
   ]
  },
  {
   "cell_type": "code",
   "execution_count": 17,
   "id": "3fc4603c",
   "metadata": {},
   "outputs": [
    {
     "data": {
      "image/png": "[encoded data removed]",
      "text/plain": [
       "<Figure size 640x480 with 1 Axes>"
      ]
     },
     "metadata": {},
     "output_type": "display_data"
    }
   ],
   "source": [
    "# create a scatter plot\n",
    "plt.scatter(X, y, color='red')\n",
    "plt.plot(X, regr.predict(X), color='blue', linewidth=3)\n",
    "plt.xlabel('Height')\n",
    "plt.ylabel('Weight')\n",
    "plt.show()"
   ]
  },
  {
   "cell_type": "code",
   "execution_count": 15,
   "id": "7bb80640",
   "metadata": {},
   "outputs": [
    {
     "name": "stdout",
     "output_type": "stream",
     "text": [
      "Correlation: 0.502858520602844\n",
      "P-value: 0.0\n"
     ]
    }
   ],
   "source": [
    "# # 5. Hallar correlacion y valor p\n",
    "corr, p_value = pearsonr(data['Height'], data['Weight'])\n",
    "print('Correlation:', corr)\n",
    "print('P-value:', p_value)\n"
   ]
  },
  {
   "cell_type": "markdown",
   "id": "bebdbd70",
   "metadata": {},
   "source": [
    "La correlación de 0.5 nos indica que, las variables son correcionales, ya que en medida que crece una, la otra tambien crece. El valor P lo que nos indica es que la significancia de la correlación es fuertemente significante."
   ]
  }
 ],
 "metadata": {
  "kernelspec": {
   "display_name": "Python 3",
   "language": "python",
   "name": "python3"
  },
  "language_info": {
   "codemirror_mode": {
    "name": "ipython",
    "version": 3
   },
   "file_extension": ".py",
   "mimetype": "text/x-python",
   "name": "python",
   "nbconvert_exporter": "python",
   "pygments_lexer": "ipython3",
   "version": "3.12.3"
  }
 },
 "nbformat": 4,
 "nbformat_minor": 5
}
